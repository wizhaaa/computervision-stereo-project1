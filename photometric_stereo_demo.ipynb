{
 "cells": [
  {
   "cell_type": "code",
   "execution_count": null,
   "id": "c23641e1",
   "metadata": {},
   "outputs": [],
   "source": [
    "%pylab\n",
    "%matplotlib inline\n",
    "import utils\n",
    "import photometric_stereo\n",
    "from PIL import Image\n"
   ]
  },
  {
   "cell_type": "code",
   "execution_count": null,
   "id": "9f5b9943",
   "metadata": {},
   "outputs": [],
   "source": [
    "import photometric_stereo_dataset as psd\n",
    "mountains=psd.get_dataset('mountains')\n",
    "ripples = psd.get_dataset('ripples')"
   ]
  },
  {
   "cell_type": "code",
   "execution_count": null,
   "id": "074752ad",
   "metadata": {},
   "outputs": [],
   "source": [
    "mountain_images = mountains['images']\n",
    "mountain_normals = mountains['normals']\n",
    "mountain_lights=mountains['lights']\n",
    "mountain_albedo = mountains['albedo']\n",
    "plt.imshow(mountain_images[0])"
   ]
  },
  {
   "cell_type": "code",
   "execution_count": null,
   "id": "f0907b35",
   "metadata": {},
   "outputs": [],
   "source": [
    "pred_mountain_albedo, pred_mountain_normals = photometric_stereo.photometric_stereo(mountain_images, mountain_lights)"
   ]
  },
  {
   "cell_type": "code",
   "execution_count": null,
   "id": "01376d68",
   "metadata": {},
   "outputs": [],
   "source": [
    "plt.figure(); plt.imshow(np.clip(pred_mountain_albedo, 0, 1))\n",
    "plt.figure(); plt.imshow(np.clip(mountain_albedo,0,1))\n",
    "albedo_error = np.sum((pred_mountain_albedo-mountain_albedo)**2, axis=2)\n",
    "plt.figure(); plt.imshow(albedo_error); plt.colorbar()\n",
    "print(np.mean(albedo_error))"
   ]
  },
  {
   "cell_type": "code",
   "execution_count": null,
   "id": "19927443",
   "metadata": {},
   "outputs": [],
   "source": [
    "plt.figure(); plt.imshow(utils.normalize(pred_mountain_normals))\n",
    "plt.figure(); plt.imshow(utils.normalize(mountain_normals))\n",
    "normal_error = np.sum((pred_mountain_normals-mountain_normals)**2, axis=2)\n",
    "plt.figure(); plt.imshow(normal_error); plt.colorbar()\n",
    "print(np.mean(normal_error))"
   ]
  },
  {
   "cell_type": "code",
   "execution_count": null,
   "id": "f9ef7242",
   "metadata": {},
   "outputs": [],
   "source": [
    "ripples_images = ripples['images']\n",
    "ripples_normals = ripples['normals']\n",
    "ripples_lights=ripples['lights']\n",
    "ripples_albedo = ripples['albedo']\n",
    "plt.imshow(ripples_images[0])"
   ]
  },
  {
   "cell_type": "code",
   "execution_count": null,
   "id": "cc2e1b17",
   "metadata": {},
   "outputs": [],
   "source": [
    "pred_ripples_albedo, pred_ripples_normals = photometric_stereo.photometric_stereo(ripples_images, ripples_lights)"
   ]
  },
  {
   "cell_type": "code",
   "execution_count": null,
   "id": "020faf89",
   "metadata": {},
   "outputs": [],
   "source": [
    "plt.figure(); plt.imshow(np.clip(pred_ripples_albedo, 0, 1))\n",
    "plt.figure(); plt.imshow(np.clip(ripples_albedo,0,1))\n",
    "albedo_error = np.sum((pred_ripples_albedo-ripples_albedo)**2, axis=2)\n",
    "plt.figure(); plt.imshow(albedo_error); plt.colorbar()\n",
    "print(np.mean(albedo_error))"
   ]
  },
  {
   "cell_type": "code",
   "execution_count": null,
   "id": "adda326f",
   "metadata": {},
   "outputs": [],
   "source": [
    "plt.figure(); plt.imshow(utils.normalize(pred_ripples_normals))\n",
    "plt.figure(); plt.imshow(utils.normalize(ripples_normals))\n",
    "normal_error = np.sum((pred_ripples_normals-ripples_normals)**2, axis=2)\n",
    "plt.figure(); plt.imshow(normal_error); plt.colorbar()\n",
    "print(np.mean(normal_error))"
   ]
  },
  {
   "cell_type": "code",
   "execution_count": null,
   "id": "95f4aa47",
   "metadata": {},
   "outputs": [],
   "source": []
  }
 ],
 "metadata": {
  "kernelspec": {
   "display_name": "Python 3",
   "language": "python",
   "name": "python3"
  },
  "language_info": {
   "codemirror_mode": {
    "name": "ipython",
    "version": 3
   },
   "file_extension": ".py",
   "mimetype": "text/x-python",
   "name": "python",
   "nbconvert_exporter": "python",
   "pygments_lexer": "ipython3",
   "version": "3.10.13"
  }
 },
 "nbformat": 4,
 "nbformat_minor": 5
}
